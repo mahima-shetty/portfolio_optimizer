{
 "cells": [
  {
   "cell_type": "code",
   "execution_count": null,
   "id": "42ca5540",
   "metadata": {},
   "outputs": [],
   "source": [
    "\n",
    "import numpy as np\n",
    "import pandas as pd\n",
    "\n",
    "\n",
    "def run_monte_carlo_simulation(prices_df, num_portfolios=10000, risk_free_rate=0.02, seed=42):\n",
    "    \"\"\"\n",
    "    Runs Monte Carlo simulation to generate random portfolios.\n",
    "\n",
    "    Args:\n",
    "        prices_df (pd.DataFrame): Adjusted close prices\n",
    "        num_portfolios (int): Number of random portfolios to simulate\n",
    "        risk_free_rate (float): Annual risk-free rate for Sharpe ratio\n",
    "        seed (int): Random seed for reproducibility\n",
    "\n",
    "    Returns:\n",
    "        pd.DataFrame: Portfolio stats (return, volatility, Sharpe, weights)\n",
    "        dict: Portfolio with max Sharpe ratio\n",
    "        dict: Portfolio with min volatility\n",
    "    \"\"\"\n",
    "    np.random.seed(seed)\n",
    "    \n",
    "    returns = prices_df.pct_change().dropna()\n",
    "    mean_returns = returns.mean() * 252\n",
    "    cov_matrix = returns.cov() * 252\n",
    "    tickers = prices_df.columns.tolist()\n",
    "\n",
    "    results = []\n",
    "    for _ in range(num_portfolios):\n",
    "        weights = np.random.random(len(tickers))\n",
    "        weights /= np.sum(weights)\n",
    "\n",
    "        port_return = np.dot(weights, mean_returns)\n",
    "        port_volatility = np.sqrt(np.dot(weights.T, np.dot(cov_matrix, weights)))\n",
    "        sharpe = (port_return - risk_free_rate) / port_volatility if port_volatility > 0 else 0\n",
    "\n",
    "        results.append({\n",
    "            \"Return\": port_return,\n",
    "            \"Volatility\": port_volatility,\n",
    "            \"SharpeRatio\": sharpe,\n",
    "            **{ticker: w for ticker, w in zip(tickers, weights)}\n",
    "        })\n",
    "\n",
    "    results_df = pd.DataFrame(results)\n",
    "\n",
    "    max_sharpe_port = results_df.loc[results_df[\"SharpeRatio\"].idxmax()].to_dict()\n",
    "    min_vol_port = results_df.loc[results_df[\"Volatility\"].idxmin()].to_dict()\n",
    "\n",
    "    return results_df, max_sharpe_port, min_vol_port\n"
   ]
  },
  {
   "cell_type": "code",
   "execution_count": null,
   "id": "350da99e",
   "metadata": {},
   "outputs": [],
   "source": []
  }
 ],
 "metadata": {
  "kernelspec": {
   "display_name": "portfolio_optimizer_env",
   "language": "python",
   "name": "python3"
  },
  "language_info": {
   "codemirror_mode": {
    "name": "ipython",
    "version": 3
   },
   "file_extension": ".py",
   "mimetype": "text/x-python",
   "name": "python",
   "nbconvert_exporter": "python",
   "pygments_lexer": "ipython3",
   "version": "3.10.11"
  }
 },
 "nbformat": 4,
 "nbformat_minor": 5
}
